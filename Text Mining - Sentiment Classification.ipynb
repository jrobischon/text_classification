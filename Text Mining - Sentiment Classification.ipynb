{
 "cells": [
  {
   "cell_type": "markdown",
   "metadata": {},
   "source": [
    "## Text Mining Brown Bag\n",
    "\n",
    "### Introduction\n",
    "The **Large Movie Review Dataset** (http://ai.stanford.edu/~amaas/data/sentiment/) is used to train several sentiment classification models.  This training dataset consists of 25,000 labeled movie reviews (50/50 positive and negative) as well as 50,000 unlabeled reviews.  The test dataset consists of an additional 25,000 labeled reviews.\n",
    "\n",
    "\n",
    "*Andrew L. Maas, Raymond E. Daly, Peter T. Pham, Dan Huang, Andrew Y. Ng, and Christopher Potts. (2011). Learning Word Vectors for Sentiment Analysis. The 49th Annual Meeting of the Association for Computational Linguistics (ACL 2011).*"
   ]
  },
  {
   "cell_type": "code",
   "execution_count": 1,
   "metadata": {
    "collapsed": true
   },
   "outputs": [],
   "source": [
    "import pandas as pd\n",
    "import numpy as np\n",
    "import matplotlib.pyplot as plt\n",
    "import os\n",
    "\n",
    "%matplotlib inline"
   ]
  },
  {
   "cell_type": "markdown",
   "metadata": {},
   "source": [
    "## Import Data"
   ]
  },
  {
   "cell_type": "code",
   "execution_count": 2,
   "metadata": {
    "collapsed": true
   },
   "outputs": [],
   "source": [
    "def import_data():\n",
    "    \n",
    "    base_dir = \"../data/aclImdb/\"\n",
    "    out = []\n",
    "    for x in [\"train\", \"test\"]:\n",
    "        for label in [\"pos\", \"unsup\", \"neg\"]:\n",
    "            try:\n",
    "                cur_dir = base_dir + x + \"/\" + label\n",
    "                files = os.listdir(cur_dir)\n",
    "                for file in files:\n",
    "                    f = open(cur_dir +\"/\" + file, \"r\")\n",
    "                    txt = f.readlines()\n",
    "                    out.append((txt[0], x == \"train\", label))\n",
    "                    f.close()\n",
    "            except FileNotFoundError:\n",
    "                pass\n",
    "            \n",
    "    out = pd.DataFrame(out)\n",
    "    out.columns = [\"review\", \"train\", \"label\"]\n",
    "    out.loc[out[\"label\"]==\"unsup\", \"label\"] = np.nan\n",
    "    out[\"target\"] = out[\"label\"] == \"pos\"\n",
    "    return out"
   ]
  },
  {
   "cell_type": "code",
   "execution_count": 3,
   "metadata": {},
   "outputs": [
    {
     "data": {
      "text/html": [
       "<div>\n",
       "<style>\n",
       "    .dataframe thead tr:only-child th {\n",
       "        text-align: right;\n",
       "    }\n",
       "\n",
       "    .dataframe thead th {\n",
       "        text-align: left;\n",
       "    }\n",
       "\n",
       "    .dataframe tbody tr th {\n",
       "        vertical-align: top;\n",
       "    }\n",
       "</style>\n",
       "<table border=\"1\" class=\"dataframe\">\n",
       "  <thead>\n",
       "    <tr style=\"text-align: right;\">\n",
       "      <th></th>\n",
       "      <th>review</th>\n",
       "      <th>train</th>\n",
       "      <th>label</th>\n",
       "      <th>target</th>\n",
       "    </tr>\n",
       "  </thead>\n",
       "  <tbody>\n",
       "    <tr>\n",
       "      <th>0</th>\n",
       "      <td>For a movie that gets no respect there sure ar...</td>\n",
       "      <td>True</td>\n",
       "      <td>pos</td>\n",
       "      <td>True</td>\n",
       "    </tr>\n",
       "    <tr>\n",
       "      <th>1</th>\n",
       "      <td>Bizarre horror movie filled with famous faces ...</td>\n",
       "      <td>True</td>\n",
       "      <td>pos</td>\n",
       "      <td>True</td>\n",
       "    </tr>\n",
       "    <tr>\n",
       "      <th>2</th>\n",
       "      <td>A solid, if unremarkable film. Matthau, as Ein...</td>\n",
       "      <td>True</td>\n",
       "      <td>pos</td>\n",
       "      <td>True</td>\n",
       "    </tr>\n",
       "    <tr>\n",
       "      <th>3</th>\n",
       "      <td>It's a strange feeling to sit alone in a theat...</td>\n",
       "      <td>True</td>\n",
       "      <td>pos</td>\n",
       "      <td>True</td>\n",
       "    </tr>\n",
       "    <tr>\n",
       "      <th>4</th>\n",
       "      <td>You probably all already know this by now, but...</td>\n",
       "      <td>True</td>\n",
       "      <td>pos</td>\n",
       "      <td>True</td>\n",
       "    </tr>\n",
       "  </tbody>\n",
       "</table>\n",
       "</div>"
      ],
      "text/plain": [
       "                                              review  train label  target\n",
       "0  For a movie that gets no respect there sure ar...   True   pos    True\n",
       "1  Bizarre horror movie filled with famous faces ...   True   pos    True\n",
       "2  A solid, if unremarkable film. Matthau, as Ein...   True   pos    True\n",
       "3  It's a strange feeling to sit alone in a theat...   True   pos    True\n",
       "4  You probably all already know this by now, but...   True   pos    True"
      ]
     },
     "execution_count": 3,
     "metadata": {},
     "output_type": "execute_result"
    }
   ],
   "source": [
    "# Import all files\n",
    "df = import_data()\n",
    "\n",
    "df.head()"
   ]
  },
  {
   "cell_type": "code",
   "execution_count": 4,
   "metadata": {},
   "outputs": [],
   "source": [
    "df.to_csv(\"../data/review_data.csv\", index=None)"
   ]
  },
  {
   "cell_type": "markdown",
   "metadata": {},
   "source": [
    "## Bag of Words Model"
   ]
  },
  {
   "cell_type": "code",
   "execution_count": 5,
   "metadata": {
    "collapsed": true
   },
   "outputs": [],
   "source": [
    "from sklearn.feature_extraction.text import CountVectorizer\n",
    "from sklearn.feature_extraction.text import TfidfTransformer\n",
    "from sklearn.ensemble import RandomForestClassifier\n",
    "from sklearn.metrics import accuracy_score\n",
    "from sklearn.pipeline import Pipeline"
   ]
  },
  {
   "cell_type": "code",
   "execution_count": 6,
   "metadata": {
    "collapsed": true
   },
   "outputs": [],
   "source": [
    "def model_accuracy(y_test, y_test_pred, model_desc=None):\n",
    "    acc = accuracy_score(y_test, y_test_pred)\n",
    "    print(\"%s Accuracy: %0.3f\" %(model_desc, acc))\n",
    "    return (model_desc, acc)"
   ]
  },
  {
   "cell_type": "code",
   "execution_count": 7,
   "metadata": {
    "collapsed": true
   },
   "outputs": [],
   "source": [
    "# Define test and training dataset\n",
    "train_indx = (df[\"train\"] == True) & (df[\"label\"].notnull())\n",
    "test_indx = (df[\"train\"] == False) & (df[\"label\"].notnull())\n",
    "\n",
    "X_train = df[train_indx][\"review\"]\n",
    "X_test = df[test_indx][\"review\"]\n",
    "\n",
    "y_train = df[train_indx][\"target\"]\n",
    "y_test = df[test_indx][\"target\"]"
   ]
  },
  {
   "cell_type": "code",
   "execution_count": 8,
   "metadata": {
    "collapsed": true
   },
   "outputs": [],
   "source": [
    "text_clf1 = Pipeline([('vect', CountVectorizer(lowercase=True, stop_words='english', min_df=100)),\n",
    "                      ('clf', RandomForestClassifier(max_depth = 12))])"
   ]
  },
  {
   "cell_type": "code",
   "execution_count": 9,
   "metadata": {
    "collapsed": true
   },
   "outputs": [],
   "source": [
    "text_clf1.fit(X_train, y_train)\n",
    "y_test_pred = text_clf1.predict(X_test)"
   ]
  },
  {
   "cell_type": "code",
   "execution_count": 10,
   "metadata": {},
   "outputs": [
    {
     "name": "stdout",
     "output_type": "stream",
     "text": [
      "BOW Accuracy: 0.780\n"
     ]
    }
   ],
   "source": [
    "acc_clf1 = model_accuracy(y_test, y_test_pred, \"BOW\")"
   ]
  },
  {
   "cell_type": "markdown",
   "metadata": {},
   "source": [
    "## Tf-IDF Model"
   ]
  },
  {
   "cell_type": "code",
   "execution_count": 11,
   "metadata": {
    "collapsed": true
   },
   "outputs": [],
   "source": [
    "text_clf2 = Pipeline([('vect', CountVectorizer(lowercase=True, stop_words='english', min_df=100)),\n",
    "                      ('tfidf', TfidfTransformer()),\n",
    "                      ('clf', RandomForestClassifier(max_depth = 12))])"
   ]
  },
  {
   "cell_type": "code",
   "execution_count": 12,
   "metadata": {},
   "outputs": [
    {
     "name": "stderr",
     "output_type": "stream",
     "text": [
      "/Library/Frameworks/Python.framework/Versions/3.6/lib/python3.6/site-packages/sklearn/feature_extraction/text.py:1089: FutureWarning: Conversion of the second argument of issubdtype from `float` to `np.floating` is deprecated. In future, it will be treated as `np.float64 == np.dtype(float).type`.\n",
      "  if hasattr(X, 'dtype') and np.issubdtype(X.dtype, np.float):\n",
      "/Library/Frameworks/Python.framework/Versions/3.6/lib/python3.6/site-packages/sklearn/feature_extraction/text.py:1089: FutureWarning: Conversion of the second argument of issubdtype from `float` to `np.floating` is deprecated. In future, it will be treated as `np.float64 == np.dtype(float).type`.\n",
      "  if hasattr(X, 'dtype') and np.issubdtype(X.dtype, np.float):\n"
     ]
    }
   ],
   "source": [
    "text_clf2.fit(X_train, y_train)\n",
    "y_test_pred = text_clf2.predict(X_test)"
   ]
  },
  {
   "cell_type": "code",
   "execution_count": 13,
   "metadata": {},
   "outputs": [
    {
     "name": "stdout",
     "output_type": "stream",
     "text": [
      "Tf-Idf Accuracy: 0.782\n"
     ]
    }
   ],
   "source": [
    "acc_clf2 = model_accuracy(y_test, y_test_pred, \"Tf-Idf\")"
   ]
  },
  {
   "cell_type": "markdown",
   "metadata": {},
   "source": [
    "## Tf-IDF Model w/ Bigrams"
   ]
  },
  {
   "cell_type": "code",
   "execution_count": 14,
   "metadata": {
    "collapsed": true
   },
   "outputs": [],
   "source": [
    "text_clf3 = Pipeline([('vect', CountVectorizer(lowercase=True, stop_words='english', ngram_range=(1, 2), min_df=100)),\n",
    "                      ('tfidf', TfidfTransformer()),\n",
    "                      ('clf', RandomForestClassifier(max_depth = 12))])"
   ]
  },
  {
   "cell_type": "code",
   "execution_count": 15,
   "metadata": {},
   "outputs": [
    {
     "name": "stderr",
     "output_type": "stream",
     "text": [
      "/Library/Frameworks/Python.framework/Versions/3.6/lib/python3.6/site-packages/sklearn/feature_extraction/text.py:1089: FutureWarning: Conversion of the second argument of issubdtype from `float` to `np.floating` is deprecated. In future, it will be treated as `np.float64 == np.dtype(float).type`.\n",
      "  if hasattr(X, 'dtype') and np.issubdtype(X.dtype, np.float):\n",
      "/Library/Frameworks/Python.framework/Versions/3.6/lib/python3.6/site-packages/sklearn/feature_extraction/text.py:1089: FutureWarning: Conversion of the second argument of issubdtype from `float` to `np.floating` is deprecated. In future, it will be treated as `np.float64 == np.dtype(float).type`.\n",
      "  if hasattr(X, 'dtype') and np.issubdtype(X.dtype, np.float):\n"
     ]
    }
   ],
   "source": [
    "text_clf3.fit(X_train, y_train)\n",
    "y_test_pred = text_clf3.predict(X_test)"
   ]
  },
  {
   "cell_type": "code",
   "execution_count": 16,
   "metadata": {},
   "outputs": [
    {
     "name": "stdout",
     "output_type": "stream",
     "text": [
      "Tf-Idf w/ Bigrams Accuracy: 0.778\n"
     ]
    }
   ],
   "source": [
    "acc_clf3 = model_accuracy(y_test, y_test_pred, \"Tf-Idf w/ Bigrams\")"
   ]
  },
  {
   "cell_type": "markdown",
   "metadata": {},
   "source": [
    "## Tf-IDF Model w/ Stemming"
   ]
  },
  {
   "cell_type": "code",
   "execution_count": 17,
   "metadata": {
    "collapsed": true
   },
   "outputs": [],
   "source": [
    "from nltk import word_tokenize\n",
    "from nltk.stem import PorterStemmer\n",
    "\n",
    "class StemTokenize(object):\n",
    "    def __init__(self):\n",
    "        self.stemmer = PorterStemmer()\n",
    "    def __call__(self, doc):\n",
    "        return [self.stemmer.stem(t) for t in word_tokenize(doc)]"
   ]
  },
  {
   "cell_type": "code",
   "execution_count": 18,
   "metadata": {},
   "outputs": [
    {
     "name": "stdout",
     "output_type": "stream",
     "text": [
      "Stemmed and Tokenized Review\n",
      "['for', 'a', 'movi', 'that', 'get', 'no', 'respect', 'there', 'sure', 'are', 'a', 'lot', 'of', 'memor', 'quot', 'list', 'for', 'thi', 'gem', '.', 'imagin', 'a', 'movi', 'where', 'joe', 'piscopo', 'is', 'actual', 'funni', '!', 'maureen', 'stapleton', 'is', 'a', 'scene', 'stealer', '.', 'the', 'moroni', 'charact', 'is', 'an', 'absolut', 'scream', '.', 'watch', 'for', 'alan', '``', 'the', 'skipper', \"''\", 'hale', 'jr.', 'as', 'a', 'polic', 'sgt', '.']\n"
     ]
    }
   ],
   "source": [
    "s = StemTokenize()\n",
    "print(\"Stemmed and Tokenized Review\")\n",
    "print(s(X_train[0]))"
   ]
  },
  {
   "cell_type": "code",
   "execution_count": 19,
   "metadata": {
    "collapsed": true
   },
   "outputs": [],
   "source": [
    "text_clf4 = Pipeline([('vect', CountVectorizer(lowercase=True, stop_words='english', tokenizer=StemTokenize(),\n",
    "                                               min_df = 100)),\n",
    "                      ('tfidf', TfidfTransformer()),\n",
    "                      ('clf', RandomForestClassifier(max_depth = 12))])"
   ]
  },
  {
   "cell_type": "code",
   "execution_count": 20,
   "metadata": {},
   "outputs": [
    {
     "name": "stderr",
     "output_type": "stream",
     "text": [
      "/Library/Frameworks/Python.framework/Versions/3.6/lib/python3.6/site-packages/sklearn/feature_extraction/text.py:1089: FutureWarning: Conversion of the second argument of issubdtype from `float` to `np.floating` is deprecated. In future, it will be treated as `np.float64 == np.dtype(float).type`.\n",
      "  if hasattr(X, 'dtype') and np.issubdtype(X.dtype, np.float):\n",
      "/Library/Frameworks/Python.framework/Versions/3.6/lib/python3.6/site-packages/sklearn/feature_extraction/text.py:1089: FutureWarning: Conversion of the second argument of issubdtype from `float` to `np.floating` is deprecated. In future, it will be treated as `np.float64 == np.dtype(float).type`.\n",
      "  if hasattr(X, 'dtype') and np.issubdtype(X.dtype, np.float):\n"
     ]
    }
   ],
   "source": [
    "text_clf4.fit(X_train.values, y_train)\n",
    "y_test_pred = text_clf4.predict(X_test.values)"
   ]
  },
  {
   "cell_type": "code",
   "execution_count": 21,
   "metadata": {},
   "outputs": [
    {
     "name": "stdout",
     "output_type": "stream",
     "text": [
      "Tf-Idf w/ Stemming Accuracy: 0.780\n"
     ]
    }
   ],
   "source": [
    "acc_clf4 = model_accuracy(y_test, y_test_pred, \"Tf-Idf w/ Stemming\")"
   ]
  },
  {
   "cell_type": "markdown",
   "metadata": {},
   "source": [
    "## Creating Word Vectors"
   ]
  },
  {
   "cell_type": "code",
   "execution_count": 22,
   "metadata": {
    "collapsed": true
   },
   "outputs": [],
   "source": [
    "from nltk.tokenize import sent_tokenize\n",
    "from gensim.models.word2vec import Word2Vec"
   ]
  },
  {
   "cell_type": "code",
   "execution_count": 23,
   "metadata": {
    "collapsed": true
   },
   "outputs": [],
   "source": [
    "def text_prep(x):\n",
    "    # Take an input string and return a list of tokenized sentences\n",
    "    \n",
    "    # Convert string to lowercase\n",
    "    x = x.lower()\n",
    "    \n",
    "    # Split string into list of sentences\n",
    "    x = sent_tokenize(x)\n",
    "    \n",
    "    # Split each sentence into list of tokens\n",
    "    x = [word_tokenize(s) for s in x]\n",
    "    \n",
    "    return x"
   ]
  },
  {
   "cell_type": "code",
   "execution_count": 24,
   "metadata": {},
   "outputs": [
    {
     "name": "stdout",
     "output_type": "stream",
     "text": [
      "Transformed Review:\n",
      "[['for', 'a', 'movie', 'that', 'gets', 'no', 'respect', 'there', 'sure', 'are', 'a', 'lot', 'of', 'memorable', 'quotes', 'listed', 'for', 'this', 'gem', '.'], ['imagine', 'a', 'movie', 'where', 'joe', 'piscopo', 'is', 'actually', 'funny', '!'], ['maureen', 'stapleton', 'is', 'a', 'scene', 'stealer', '.'], ['the', 'moroni', 'character', 'is', 'an', 'absolute', 'scream', '.'], ['watch', 'for', 'alan', '``', 'the', 'skipper', \"''\", 'hale', 'jr.', 'as', 'a', 'police', 'sgt', '.']]\n"
     ]
    }
   ],
   "source": [
    "print(\"Transformed Review:\")\n",
    "print(text_prep(X_train[0]))"
   ]
  },
  {
   "cell_type": "code",
   "execution_count": 25,
   "metadata": {
    "collapsed": true
   },
   "outputs": [],
   "source": [
    "# Transform all reviews in training dataset\n",
    "X_train = []\n",
    "\n",
    "train = df[df[\"train\"] == True]\n",
    "\n",
    "for i in range(train.shape[0]):\n",
    "    txt = train.iloc[i][\"review\"]\n",
    "    X_train.extend(text_prep(txt))"
   ]
  },
  {
   "cell_type": "code",
   "execution_count": 26,
   "metadata": {
    "collapsed": true
   },
   "outputs": [],
   "source": [
    "model = Word2Vec(X_train, size = 300, workers = 3, min_count=100)"
   ]
  },
  {
   "cell_type": "code",
   "execution_count": 27,
   "metadata": {},
   "outputs": [
    {
     "data": {
      "text/plain": [
       "[('creature', 0.7423828840255737),\n",
       " ('giant', 0.6856991052627563),\n",
       " ('dinosaur', 0.6835554838180542),\n",
       " ('werewolf', 0.6724718809127808),\n",
       " ('shark', 0.663896918296814),\n",
       " ('mummy', 0.642347514629364),\n",
       " ('zombie', 0.6358975768089294),\n",
       " ('crocodile', 0.6309630870819092),\n",
       " ('demon', 0.6199178695678711),\n",
       " ('alien', 0.6015124917030334)]"
      ]
     },
     "execution_count": 27,
     "metadata": {},
     "output_type": "execute_result"
    }
   ],
   "source": [
    "model.wv.most_similar(\"monster\")"
   ]
  },
  {
   "cell_type": "code",
   "execution_count": 28,
   "metadata": {},
   "outputs": [
    {
     "data": {
      "text/plain": [
       "[('princess', 0.47555795311927795),\n",
       " ('queen', 0.47231391072273254),\n",
       " ('prince', 0.4667541980743408),\n",
       " ('jean', 0.4463273584842682),\n",
       " ('cinderella', 0.4378693103790283),\n",
       " ('elizabeth', 0.42998072504997253),\n",
       " ('stella', 0.4222850203514099),\n",
       " ('belle', 0.41974157094955444),\n",
       " ('kathryn', 0.41679638624191284),\n",
       " ('eva', 0.41167980432510376)]"
      ]
     },
     "execution_count": 28,
     "metadata": {},
     "output_type": "execute_result"
    }
   ],
   "source": [
    "model.wv.most_similar(positive=[\"woman\", \"king\"], negative=[\"man\"])"
   ]
  },
  {
   "cell_type": "code",
   "execution_count": 29,
   "metadata": {},
   "outputs": [
    {
     "data": {
      "text/plain": [
       "[('aunt', 0.7741267085075378),\n",
       " ('niece', 0.7316887378692627),\n",
       " ('fiancé', 0.7205795049667358),\n",
       " ('fiancée', 0.7176198363304138),\n",
       " ('boyfriend', 0.7094359993934631),\n",
       " ('sister', 0.7087077498435974),\n",
       " ('cousin', 0.7033664584159851),\n",
       " ('daughter', 0.7010114192962646),\n",
       " ('grandmother', 0.6979473829269409),\n",
       " ('neighbor', 0.6929489970207214)]"
      ]
     },
     "execution_count": 29,
     "metadata": {},
     "output_type": "execute_result"
    }
   ],
   "source": [
    "model.wv.most_similar(positive=[\"woman\", \"uncle\"], negative=[\"man\"])"
   ]
  },
  {
   "cell_type": "code",
   "execution_count": 30,
   "metadata": {
    "collapsed": true
   },
   "outputs": [],
   "source": [
    "model.save(\"wordvec.model\")"
   ]
  },
  {
   "cell_type": "code",
   "execution_count": 31,
   "metadata": {
    "collapsed": true
   },
   "outputs": [],
   "source": [
    "model = Word2Vec.load(\"wordvec.model\")"
   ]
  },
  {
   "cell_type": "markdown",
   "metadata": {},
   "source": [
    "# LSTM Model"
   ]
  },
  {
   "cell_type": "code",
   "execution_count": 32,
   "metadata": {},
   "outputs": [
    {
     "name": "stderr",
     "output_type": "stream",
     "text": [
      "/Library/Frameworks/Python.framework/Versions/3.6/lib/python3.6/site-packages/h5py/__init__.py:36: FutureWarning: Conversion of the second argument of issubdtype from `float` to `np.floating` is deprecated. In future, it will be treated as `np.float64 == np.dtype(float).type`.\n",
      "  from ._conv import register_converters as _register_converters\n",
      "Using TensorFlow backend.\n"
     ]
    }
   ],
   "source": [
    "from keras.preprocessing.text import Tokenizer\n",
    "from keras.preprocessing.sequence import pad_sequences\n",
    "from keras.models import Model\n",
    "from keras.layers import Embedding, Input, LSTM, Dense"
   ]
  },
  {
   "cell_type": "code",
   "execution_count": 33,
   "metadata": {
    "collapsed": true
   },
   "outputs": [],
   "source": [
    "word2index = {\"<UNK>\": 0}\n",
    "\n",
    "for i, k in enumerate(model.wv.index2word):\n",
    "    word2index[k] = i + 1\n",
    "    \n",
    "embedding = np.zeros((1, model.wv.syn0.shape[1]))\n",
    "embedding = np.concatenate([embedding, model.wv.syn0], axis=0)"
   ]
  },
  {
   "cell_type": "code",
   "execution_count": 34,
   "metadata": {
    "collapsed": true
   },
   "outputs": [],
   "source": [
    "def index_lookup(x):\n",
    "    try:\n",
    "        return word2index[x]\n",
    "    except KeyError:\n",
    "        return word2index[\"<UNK>\"]\n",
    "\n",
    "def texts_to_sequence(texts, max_length = 100):\n",
    "    out = []\n",
    "    for x in texts:\n",
    "        # Convert to lowercase\n",
    "        x = x.lower()\n",
    "        \n",
    "        # Tokenize\n",
    "        x = word_tokenize(x)\n",
    "        \n",
    "        x_seq = [index_lookup(t) for t in x]\n",
    "        out.append(x_seq)\n",
    "    return pad_sequences(out, maxlen=max_length)"
   ]
  },
  {
   "cell_type": "code",
   "execution_count": 35,
   "metadata": {
    "collapsed": true
   },
   "outputs": [],
   "source": [
    "MAX_LEN = 100\n",
    "\n",
    "X_train = texts_to_sequence(df[(df[\"train\"] == True) & (df[\"label\"].notnull())][\"review\"], MAX_LEN)\n",
    "X_test = texts_to_sequence(df[(df[\"train\"] == False) & (df[\"label\"].notnull())][\"review\"], MAX_LEN)"
   ]
  },
  {
   "cell_type": "code",
   "execution_count": 36,
   "metadata": {
    "collapsed": true
   },
   "outputs": [],
   "source": [
    "# Define embedding layer\n",
    "d1, d2 = embedding.shape\n",
    "embedding_layer = Embedding(d1, d2, weights = [embedding],\n",
    "                            input_length=MAX_LEN,\n",
    "                            trainable=False)"
   ]
  },
  {
   "cell_type": "code",
   "execution_count": 37,
   "metadata": {
    "collapsed": true
   },
   "outputs": [],
   "source": [
    "in1 = Input(shape=(MAX_LEN,))\n",
    "\n",
    "x = embedding_layer(in1)\n",
    "x = LSTM(10)(x)\n",
    "x = Dense(10, activation=\"relu\")(x)\n",
    "out = Dense(1, activation=\"sigmoid\")(x)\n",
    "\n",
    "model = Model(in1, out)"
   ]
  },
  {
   "cell_type": "code",
   "execution_count": 38,
   "metadata": {},
   "outputs": [
    {
     "name": "stdout",
     "output_type": "stream",
     "text": [
      "_________________________________________________________________\n",
      "Layer (type)                 Output Shape              Param #   \n",
      "=================================================================\n",
      "input_1 (InputLayer)         (None, 100)               0         \n",
      "_________________________________________________________________\n",
      "embedding_1 (Embedding)      (None, 100, 300)          2839200   \n",
      "_________________________________________________________________\n",
      "lstm_1 (LSTM)                (None, 10)                12440     \n",
      "_________________________________________________________________\n",
      "dense_1 (Dense)              (None, 10)                110       \n",
      "_________________________________________________________________\n",
      "dense_2 (Dense)              (None, 1)                 11        \n",
      "=================================================================\n",
      "Total params: 2,851,761\n",
      "Trainable params: 12,561\n",
      "Non-trainable params: 2,839,200\n",
      "_________________________________________________________________\n"
     ]
    }
   ],
   "source": [
    "model.summary()"
   ]
  },
  {
   "cell_type": "code",
   "execution_count": 39,
   "metadata": {},
   "outputs": [
    {
     "name": "stdout",
     "output_type": "stream",
     "text": [
      "Epoch 1/10\n",
      "25000/25000 [==============================] - 23s 936us/step - loss: 0.5817 - acc: 0.6891\n",
      "Epoch 2/10\n",
      "25000/25000 [==============================] - 23s 902us/step - loss: 0.4794 - acc: 0.7779\n",
      "Epoch 3/10\n",
      "25000/25000 [==============================] - 22s 879us/step - loss: 0.4391 - acc: 0.8034\n",
      "Epoch 4/10\n",
      "25000/25000 [==============================] - 22s 877us/step - loss: 0.4119 - acc: 0.8217\n",
      "Epoch 5/10\n",
      "25000/25000 [==============================] - 22s 888us/step - loss: 0.3932 - acc: 0.8310\n",
      "Epoch 6/10\n",
      "25000/25000 [==============================] - 23s 924us/step - loss: 0.3769 - acc: 0.8403\n",
      "Epoch 7/10\n",
      "25000/25000 [==============================] - 22s 876us/step - loss: 0.3619 - acc: 0.8463\n",
      "Epoch 8/10\n",
      "25000/25000 [==============================] - 21s 853us/step - loss: 0.3507 - acc: 0.8534\n",
      "Epoch 9/10\n",
      "25000/25000 [==============================] - 23s 905us/step - loss: 0.3378 - acc: 0.8594\n",
      "Epoch 10/10\n",
      "25000/25000 [==============================] - 22s 868us/step - loss: 0.3293 - acc: 0.8647\n"
     ]
    },
    {
     "data": {
      "text/plain": [
       "<keras.callbacks.History at 0x190199588>"
      ]
     },
     "execution_count": 39,
     "metadata": {},
     "output_type": "execute_result"
    }
   ],
   "source": [
    "model.compile(loss=\"binary_crossentropy\",\n",
    "              optimizer=\"rmsprop\", metrics=[\"acc\"])\n",
    "\n",
    "model.fit(X_train, y_train, epochs=10, batch_size=128)"
   ]
  },
  {
   "cell_type": "code",
   "execution_count": 40,
   "metadata": {
    "collapsed": true
   },
   "outputs": [],
   "source": [
    "y_test_pred =  model.predict(X_test).flatten()"
   ]
  },
  {
   "cell_type": "code",
   "execution_count": 41,
   "metadata": {},
   "outputs": [
    {
     "name": "stdout",
     "output_type": "stream",
     "text": [
      "LSTM Accuracy: 0.839\n"
     ]
    }
   ],
   "source": [
    "acc_lstm = model_accuracy(y_test, y_test_pred > 0.5, \"LSTM\")"
   ]
  },
  {
   "cell_type": "markdown",
   "metadata": {},
   "source": [
    "## Model Performance Comparison"
   ]
  },
  {
   "cell_type": "code",
   "execution_count": 42,
   "metadata": {
    "collapsed": true
   },
   "outputs": [],
   "source": [
    "names, accuracy = zip(*(acc_clf1, acc_clf2, acc_clf3, acc_clf4, acc_lstm))"
   ]
  },
  {
   "cell_type": "code",
   "execution_count": 43,
   "metadata": {},
   "outputs": [
    {
     "data": {
      "image/png": "[encoded data removed]",
      "text/plain": [
       "<matplotlib.figure.Figure at 0x14c27d320>"
      ]
     },
     "metadata": {},
     "output_type": "display_data"
    }
   ],
   "source": [
    "plt.title(\"Sentiment Classification Accuracy\")\n",
    "plt.barh(range(len(accuracy)), accuracy)\n",
    "plt.yticks(range(len(names)), names)\n",
    "plt.ylabel(\"Model Type\")\n",
    "plt.xlabel(\"Accuracy\")\n",
    "plt.show()"
   ]
  }
 ],
 "metadata": {
  "kernelspec": {
   "display_name": "Python 3",
   "language": "python",
   "name": "python3"
  },
  "language_info": {
   "codemirror_mode": {
    "name": "ipython",
    "version": 3
   },
   "file_extension": ".py",
   "mimetype": "text/x-python",
   "name": "python",
   "nbconvert_exporter": "python",
   "pygments_lexer": "ipython3",
   "version": "3.6.0"
  }
 },
 "nbformat": 4,
 "nbformat_minor": 2
}
